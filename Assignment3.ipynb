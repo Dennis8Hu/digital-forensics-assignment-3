{
 "cells": [
  {
   "cell_type": "code",
   "execution_count": null,
   "id": "8ca04f45",
   "metadata": {},
   "outputs": [],
   "source": []
  },
  {
   "cell_type": "markdown",
   "id": "fd2aa23f",
   "metadata": {},
   "source": [
    "# Digital Forensics - Assignment 3\n",
    "#### Group 7\t\n",
    "Jonas ter Horst \t- s2331616<br>\n",
    "Jochem Sallander \t- s2324903<br>\n",
    "Dennis Hu\t\t- s2380897<br>\n",
    "Sri Harsh Amur\t- s2343665<br>\n",
    "Kristian Nedelchev\t- s2343800<br>"
   ]
  },
  {
   "cell_type": "markdown",
   "id": "22aa12d1",
   "metadata": {},
   "source": [
    "## Motivation and Goals\n",
    "For this assignment, we received a database of a booter Website, called TWBooter. This information was leaked by a cybersecurity journalist. Our task is to analyze the database and answer questions about different findings. \n",
    "During this assignment, we hope to get more information about what kinds of data can be leaked, how extensive the data is, and what information the data tells us. It is interesting to see details, like how many users were registered, and how many of them actually used the website for an attack. Furthermore, information like the duration of the attack can tell us more about what the attack was used for. After completing this assignment, we hope to be able to use the gained knowledge and be able to analyze other leaked databases. \n"
   ]
  },
  {
   "cell_type": "markdown",
   "id": "664e7e2a",
   "metadata": {},
   "source": [
    "## Methodology\n",
    "To get our results, we analyze the database in an Excel and tableau spreadsheet. By applying different formulas, we are able to get information about unique user IDs, domain names or attack types. Using these techniques, we will answer 9 questions. The answers and results of our findings can be found in the next section."
   ]
  },
  {
   "cell_type": "markdown",
   "id": "8ed54212",
   "metadata": {},
   "source": [
    "## Results\n",
    "1. The total number of attack records?<br>\n",
    "The total number of attack records are 48844\n",
    "\n",
    "2. Number of unique users?<br>\n",
    "By extracting the unique values in the column “client_attacker” and then counting them we reached the result of 277 unique users.\n",
    "\n",
    "\n",
    "3. Top 10 victim IP addresses ?<br>\n",
    "\n",
    "87.106.136.156<br>\n",
    "212.7.214.197<br>\n",
    "176.31.90.154<br>\n",
    "72.9.144.6<br>\n",
    "186.202.153.45<br>\n",
    "69.162.77.11<br>\n",
    "198.1.122.66<br>\n",
    "70.39.68.226<br>\n",
    "85.144.128.90<br>\n",
    "100.42.216.59<br>\n",
    "\n",
    "4. Top 10 victim domain names?<br>\n",
    "http://www.relog.co.il - 635<br>\n",
    "http://rewards.yourpshome.net - 445<br>\n",
    "http://pshomecentral.net - 383<br>\n",
    "http://ajnabi.vchats.info/ - 367<br>\n",
    "http://rewards.yourpshome.net/ - 190<br>\n",
    "http://ajnabi.pkfun.net/ - 184<br>\n",
    "http://www.nordicmakten.com - 178<br>\n",
    "http://www.nordicmafia.net - 107<br>\n",
    "http://www.yourpshome.net - 100<br>\n",
    "http://lapdonline.org - 95<br>\n",
    "\n",
    "5. The longest attack duration?<br>\n",
    "The longest attack duration lasted 500000 seconds.<br>\n",
    "\n",
    "6. Top 3 attack types?<br>\n",
    "The top 3 attack types were ESSYN (19618), ARME (19618), UDP (10505)<br>\n",
    "\n",
    "7. Which owner ID performed most of the attacks?<br>\n",
    "The id that performed the most attacks is ID 272.<br>\n",
    "\n",
    "8. How many attacks 'krebsonsecurity.com' suffered?<br>\n",
    "Krebsonsecurity.com was attacked 14 times. <br>\n",
    "\n",
    "\n",
    "9. Add two statistics that I didn't list above.<br>\n",
    "The two statistics that we chose to add are firstly; the average duration of attacks per type of attack, which shows us how long certain types of attacks typically take.<br>\n",
    "\n",
    "![image](averageDurationAttack.png)\n",
    "\n",
    "Secondly; we chose to show the amount of total attacks against the amount of distinct victims for the top 10 most active attackers for this booter website. We chose to also make a scatterplot for this one as a potentially more interesting and helpful way of visualizing the data. This statistics shows us that some attackers repeatedly attack the same victims while others spread their attacks.\n",
    "\n",
    "![image](table1.png)\n",
    "![image](table2.png)\n"
   ]
  },
  {
   "cell_type": "markdown",
   "id": "b118e523",
   "metadata": {},
   "source": [
    "## Conclusion and Reflections \n",
    "By answering the questions it became clear what the statistics of the attack entries were. Also there were two extra statistics discovered.<br>\n",
    "\n",
    "Looking back at our work we can say that the work was evenly divided and there were no big issues. In the end we learned how a cleaned up database could look like and how we could handle and analyse the data to get relevant information out of the table. \n"
   ]
  }
 ],
 "metadata": {
  "kernelspec": {
   "display_name": "Python 3",
   "language": "python",
   "name": "python3"
  },
  "language_info": {
   "codemirror_mode": {
    "name": "ipython",
    "version": 3
   },
   "file_extension": ".py",
   "mimetype": "text/x-python",
   "name": "python",
   "nbconvert_exporter": "python",
   "pygments_lexer": "ipython3",
   "version": "3.8.8"
  }
 },
 "nbformat": 4,
 "nbformat_minor": 5
}
